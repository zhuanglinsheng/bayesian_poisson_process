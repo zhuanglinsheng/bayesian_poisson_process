{
 "cells": [
  {
   "cell_type": "markdown",
   "id": "a1e98a2e",
   "metadata": {},
   "source": [
    "# Test Nonhomogeneous Poisson"
   ]
  },
  {
   "cell_type": "code",
   "execution_count": 1,
   "id": "1a9f02b5",
   "metadata": {},
   "outputs": [
    {
     "name": "stdout",
     "output_type": "stream",
     "text": [
      "CmdStan install directory: /Users/zhuanglinsheng/.cmdstan\n",
      "CmdStan version 2.36.0 already installed\n",
      "Test model compilation\n"
     ]
    }
   ],
   "source": [
    "# std library\n",
    "import os\n",
    "import sys\n",
    "import json\n",
    "import random\n",
    "from datetime import datetime\n",
    "\n",
    "# third-party\n",
    "import numpy as np\n",
    "from scipy.interpolate import interp1d\n",
    "from matplotlib import pyplot as plt\n",
    "import cmdstanpy\n",
    "cmdstanpy.install_cmdstan()\n",
    "from cmdstanpy import CmdStanModel"
   ]
  },
  {
   "cell_type": "code",
   "execution_count": 2,
   "id": "f1d83725",
   "metadata": {},
   "outputs": [],
   "source": [
    "wd = os.getcwd()\n",
    "current_dir = os.path.dirname(wd + '/')\n",
    "parent_dir = os.path.dirname(current_dir)\n",
    "\n",
    "# wd, current_dir, parent_dir\n",
    "sys.path.append(parent_dir)\n",
    "\n",
    "# import local modual\n",
    "from poisson import simulate_nhpp"
   ]
  },
  {
   "cell_type": "code",
   "execution_count": 3,
   "id": "2879b9b6",
   "metadata": {},
   "outputs": [],
   "source": [
    "start_time = datetime(2025, 1, 1, 0, 0, 0)\n",
    "end_time = datetime(2025, 4, 1, 0, 0, 0)"
   ]
  },
  {
   "cell_type": "code",
   "execution_count": 4,
   "id": "ecee6f4c",
   "metadata": {},
   "outputs": [],
   "source": [
    "# Set parameter\n",
    "intensity_effort_ratio = 1.5"
   ]
  },
  {
   "cell_type": "code",
   "execution_count": 5,
   "id": "d23c7e74",
   "metadata": {},
   "outputs": [
    {
     "name": "stdout",
     "output_type": "stream",
     "text": [
      "2160\n",
      "max (hour) intensity = 1.001183527469498\n",
      "number of events = 48\n"
     ]
    }
   ],
   "source": [
    "# Generate data\n",
    "rng_poisson = random.Random(42)\n",
    "rng_uniform = random.Random(42)\n",
    "## real-time (per hour) daily effort and intensity\n",
    "ts_effort = np.load('./ts_effort.npy')\n",
    "intensity = intensity_effort_ratio / 24 * ts_effort\n",
    "print(intensity.size)\n",
    "print('max (hour) intensity =', intensity.max())\n",
    "## interpolate\n",
    "intensity2 = np.append(intensity, [0])\n",
    "flt_times = np.array(range(len(intensity2))) / len(intensity)\n",
    "fn_intensity = interp1d(flt_times, intensity2)\n",
    "## generate events\n",
    "events = simulate_nhpp(start_time, end_time, fn_intensity, 1, rng_poisson, rng_uniform)\n",
    "print('number of events =', len(events))"
   ]
  },
  {
   "cell_type": "code",
   "execution_count": 6,
   "id": "d287698b",
   "metadata": {},
   "outputs": [],
   "source": [
    "# Save to json file\n",
    "test_nhpp_data = os.path.join(wd, 'test_nhpp_data.json')\n",
    "with open(test_nhpp_data, 'w') as f:\n",
    "\tjson.dump({\n",
    "\t\t'hours': int((end_time - start_time).total_seconds() / 3600),\n",
    "\t\t'effort': ts_effort.tolist(),\n",
    "\t\t'N': len(events),\n",
    "\t\t'events': [(t - start_time).total_seconds() / 3600 for t in events],\n",
    "\t}, f, indent=4)"
   ]
  },
  {
   "cell_type": "code",
   "execution_count": 7,
   "id": "6bc05bda",
   "metadata": {},
   "outputs": [],
   "source": [
    "# Build model\n",
    "stan_file_nhpp = os.path.join(wd, 'test_nhpp.stan')\n",
    "stan_model_nhpp = CmdStanModel(stan_file=stan_file_nhpp)"
   ]
  },
  {
   "cell_type": "code",
   "execution_count": 8,
   "id": "f5f1b302",
   "metadata": {},
   "outputs": [
    {
     "name": "stderr",
     "output_type": "stream",
     "text": [
      "18:31:48 - cmdstanpy - INFO - CmdStan start processing\n"
     ]
    },
    {
     "data": {
      "application/vnd.jupyter.widget-view+json": {
       "model_id": "8838d33a55864e61a35c34d58a85c9db",
       "version_major": 2,
       "version_minor": 0
      },
      "text/plain": [
       "chain 1 |          | 00:00 Status"
      ]
     },
     "metadata": {},
     "output_type": "display_data"
    },
    {
     "data": {
      "application/vnd.jupyter.widget-view+json": {
       "model_id": "7fba9286439f4dbbb04cb341b2206809",
       "version_major": 2,
       "version_minor": 0
      },
      "text/plain": [
       "chain 2 |          | 00:00 Status"
      ]
     },
     "metadata": {},
     "output_type": "display_data"
    },
    {
     "data": {
      "application/vnd.jupyter.widget-view+json": {
       "model_id": "b5c7aef5d81141d9b76c5491bfe2360f",
       "version_major": 2,
       "version_minor": 0
      },
      "text/plain": [
       "chain 3 |          | 00:00 Status"
      ]
     },
     "metadata": {},
     "output_type": "display_data"
    },
    {
     "data": {
      "application/vnd.jupyter.widget-view+json": {
       "model_id": "718ab0866165473cb248e794ddbe20c8",
       "version_major": 2,
       "version_minor": 0
      },
      "text/plain": [
       "chain 4 |          | 00:00 Status"
      ]
     },
     "metadata": {},
     "output_type": "display_data"
    },
    {
     "name": "stdout",
     "output_type": "stream",
     "text": [
      "                                                                                                                                                                                                                                                                                                                                "
     ]
    },
    {
     "name": "stderr",
     "output_type": "stream",
     "text": [
      "18:31:51 - cmdstanpy - INFO - CmdStan done processing.\n"
     ]
    },
    {
     "name": "stdout",
     "output_type": "stream",
     "text": [
      "\n"
     ]
    }
   ],
   "source": [
    "# Fit data\n",
    "fit_nhpp = stan_model_nhpp.sample(\n",
    "\tdata=test_nhpp_data,\n",
    "\tchains=4,\n",
    "\titer_warmup=2000,\n",
    "\titer_sampling=4000,\n",
    "\tparallel_chains=4,\n",
    "\tshow_console=False,\n",
    ")"
   ]
  },
  {
   "cell_type": "code",
   "execution_count": 9,
   "id": "4d6f7ce4",
   "metadata": {},
   "outputs": [
    {
     "data": {
      "application/vnd.microsoft.datawrangler.viewer.v0+json": {
       "columns": [
        {
         "name": "index",
         "rawType": "object",
         "type": "string"
        },
        {
         "name": "Mean",
         "rawType": "float64",
         "type": "float"
        },
        {
         "name": "MCSE",
         "rawType": "float64",
         "type": "float"
        },
        {
         "name": "StdDev",
         "rawType": "float64",
         "type": "float"
        },
        {
         "name": "MAD",
         "rawType": "float64",
         "type": "float"
        },
        {
         "name": "5%",
         "rawType": "float64",
         "type": "float"
        },
        {
         "name": "50%",
         "rawType": "float64",
         "type": "float"
        },
        {
         "name": "95%",
         "rawType": "float64",
         "type": "float"
        },
        {
         "name": "ESS_bulk",
         "rawType": "float64",
         "type": "float"
        },
        {
         "name": "ESS_tail",
         "rawType": "float64",
         "type": "float"
        },
        {
         "name": "R_hat",
         "rawType": "float64",
         "type": "float"
        }
       ],
       "conversionMethod": "pd.DataFrame",
       "ref": "a9265ce0-3fd8-42d3-80e5-374994e3a86f",
       "rows": [
        [
         "lp__",
         "-152.985",
         "0.00842843",
         "0.705933",
         "0.308381",
         "-154.422",
         "-152.711",
         "-152.487",
         "7577.8",
         "9395.31",
         "1.00065"
        ],
        [
         "r",
         "1.53162",
         "0.00279513",
         "0.218429",
         "0.216007",
         "1.18913",
         "1.52125",
         "1.91057",
         "6091.07",
         "8193.44",
         "1.00071"
        ]
       ],
       "shape": {
        "columns": 10,
        "rows": 2
       }
      },
      "text/html": [
       "<div>\n",
       "<style scoped>\n",
       "    .dataframe tbody tr th:only-of-type {\n",
       "        vertical-align: middle;\n",
       "    }\n",
       "\n",
       "    .dataframe tbody tr th {\n",
       "        vertical-align: top;\n",
       "    }\n",
       "\n",
       "    .dataframe thead th {\n",
       "        text-align: right;\n",
       "    }\n",
       "</style>\n",
       "<table border=\"1\" class=\"dataframe\">\n",
       "  <thead>\n",
       "    <tr style=\"text-align: right;\">\n",
       "      <th></th>\n",
       "      <th>Mean</th>\n",
       "      <th>MCSE</th>\n",
       "      <th>StdDev</th>\n",
       "      <th>MAD</th>\n",
       "      <th>5%</th>\n",
       "      <th>50%</th>\n",
       "      <th>95%</th>\n",
       "      <th>ESS_bulk</th>\n",
       "      <th>ESS_tail</th>\n",
       "      <th>R_hat</th>\n",
       "    </tr>\n",
       "  </thead>\n",
       "  <tbody>\n",
       "    <tr>\n",
       "      <th>lp__</th>\n",
       "      <td>-152.98500</td>\n",
       "      <td>0.008428</td>\n",
       "      <td>0.705933</td>\n",
       "      <td>0.308381</td>\n",
       "      <td>-154.42200</td>\n",
       "      <td>-152.71100</td>\n",
       "      <td>-152.48700</td>\n",
       "      <td>7577.80</td>\n",
       "      <td>9395.31</td>\n",
       "      <td>1.00065</td>\n",
       "    </tr>\n",
       "    <tr>\n",
       "      <th>r</th>\n",
       "      <td>1.53162</td>\n",
       "      <td>0.002795</td>\n",
       "      <td>0.218429</td>\n",
       "      <td>0.216007</td>\n",
       "      <td>1.18913</td>\n",
       "      <td>1.52125</td>\n",
       "      <td>1.91057</td>\n",
       "      <td>6091.07</td>\n",
       "      <td>8193.44</td>\n",
       "      <td>1.00071</td>\n",
       "    </tr>\n",
       "  </tbody>\n",
       "</table>\n",
       "</div>"
      ],
      "text/plain": [
       "           Mean      MCSE    StdDev       MAD         5%        50%  \\\n",
       "lp__ -152.98500  0.008428  0.705933  0.308381 -154.42200 -152.71100   \n",
       "r       1.53162  0.002795  0.218429  0.216007    1.18913    1.52125   \n",
       "\n",
       "            95%  ESS_bulk  ESS_tail    R_hat  \n",
       "lp__ -152.48700   7577.80   9395.31  1.00065  \n",
       "r       1.91057   6091.07   8193.44  1.00071  "
      ]
     },
     "execution_count": 9,
     "metadata": {},
     "output_type": "execute_result"
    }
   ],
   "source": [
    "posteriors = fit_nhpp.summary()\n",
    "posteriors.iloc[:2]"
   ]
  },
  {
   "cell_type": "markdown",
   "id": "ec949aa7",
   "metadata": {},
   "source": [
    "Compare:\n",
    "- intensity_effort_ratio = 1.5"
   ]
  },
  {
   "cell_type": "code",
   "execution_count": 10,
   "id": "2f5bceec",
   "metadata": {},
   "outputs": [
    {
     "data": {
      "image/png": "[encoded data removed]",
      "text/plain": [
       "<Figure size 1000x300 with 1 Axes>"
      ]
     },
     "metadata": {},
     "output_type": "display_data"
    }
   ],
   "source": [
    "# compare posteriors intensity with the real\n",
    "posterior_intensity = posteriors['Mean'].iloc[2:2 + intensity.size]\n",
    "\n",
    "plt.figure(figsize=(10, 3))\n",
    "plt.plot(list(range(len(intensity))), posterior_intensity, label='posterior tau(t)')\n",
    "plt.plot(list(range(len(intensity))), intensity, label='real intensity', linestyle='dotted')\n",
    "plt.legend()\n",
    "plt.show()"
   ]
  }
 ],
 "metadata": {
  "kernelspec": {
   "display_name": ".venv",
   "language": "python",
   "name": "python3"
  },
  "language_info": {
   "codemirror_mode": {
    "name": "ipython",
    "version": 3
   },
   "file_extension": ".py",
   "mimetype": "text/x-python",
   "name": "python",
   "nbconvert_exporter": "python",
   "pygments_lexer": "ipython3",
   "version": "3.13.2"
  }
 },
 "nbformat": 4,
 "nbformat_minor": 5
}
