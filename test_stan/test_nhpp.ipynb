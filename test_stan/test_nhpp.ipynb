{
 "cells": [
  {
   "cell_type": "markdown",
   "id": "a1e98a2e",
   "metadata": {},
   "source": [
    "# Test Nonhomogeneous Poisson"
   ]
  },
  {
   "cell_type": "code",
   "execution_count": 1,
   "id": "1a9f02b5",
   "metadata": {},
   "outputs": [
    {
     "name": "stdout",
     "output_type": "stream",
     "text": [
      "CmdStan install directory: /Users/zhuanglinsheng/.cmdstan\n",
      "CmdStan version 2.36.0 already installed\n",
      "Test model compilation\n"
     ]
    }
   ],
   "source": [
    "# std library\n",
    "import os\n",
    "import sys\n",
    "import json\n",
    "import random\n",
    "from datetime import datetime\n",
    "\n",
    "# third-party\n",
    "import numpy as np\n",
    "from scipy.interpolate import interp1d\n",
    "from matplotlib import pyplot as plt\n",
    "import cmdstanpy\n",
    "cmdstanpy.install_cmdstan()\n",
    "from cmdstanpy import CmdStanModel"
   ]
  },
  {
   "cell_type": "code",
   "execution_count": 2,
   "id": "f1d83725",
   "metadata": {},
   "outputs": [],
   "source": [
    "wd = os.getcwd()\n",
    "current_dir = os.path.dirname(wd + '/')\n",
    "parent_dir = os.path.dirname(current_dir)\n",
    "\n",
    "# wd, current_dir, parent_dir\n",
    "sys.path.append(parent_dir)\n",
    "\n",
    "# import local modual\n",
    "from poisson import simulate_nhpp, simulate_hpp"
   ]
  },
  {
   "cell_type": "code",
   "execution_count": 3,
   "id": "2879b9b6",
   "metadata": {},
   "outputs": [],
   "source": [
    "start_time = datetime(2025, 1, 1, 0, 0, 0)\n",
    "end_time = datetime(2025, 4, 1, 0, 0, 0)"
   ]
  },
  {
   "cell_type": "code",
   "execution_count": 4,
   "id": "ecee6f4c",
   "metadata": {},
   "outputs": [],
   "source": [
    "# Set parameter\n",
    "intensity_effort_ratio = 1.5"
   ]
  },
  {
   "cell_type": "code",
   "execution_count": 5,
   "id": "d23c7e74",
   "metadata": {},
   "outputs": [
    {
     "name": "stdout",
     "output_type": "stream",
     "text": [
      "Number of time intervals = 2160\n",
      "max (hour) intensity = 1.001183527469498\n",
      "0.5250639139230147 0.5251321959417738 0.5251854987142526\n",
      "number of unthinned events = 3172\n",
      "number of   thinned events = 47\n"
     ]
    }
   ],
   "source": [
    "# Generate data\n",
    "## real-time (per hour) daily effort and hourly intensity\n",
    "ts_effort = np.load('./ts_effort.npy')\n",
    "intensity = intensity_effort_ratio / 24 * ts_effort\n",
    "print('Number of time intervals =', intensity.size)\n",
    "print('max (hour) intensity =', intensity.max())\n",
    "## interpolate\n",
    "intensity2 = np.append(intensity, [0])\n",
    "flt_times2 = np.array(range(len(intensity2))) / (len(intensity2) - 1)\n",
    "fn_intensity = interp1d(flt_times2, intensity2)\n",
    "print(intensity2[0], fn_intensity(2.6e-4), intensity2[1])\n",
    "## generate events\n",
    "rng_poisson = random.Random(1234)\n",
    "rng_uniform = random.Random(5678)\n",
    "events, unthinned, _ = simulate_nhpp(start_time, end_time, fn_intensity, 1.5, rng_poisson, rng_uniform)\n",
    "print('number of unthinned events =', len(unthinned))\n",
    "print('number of   thinned events =', len(events))"
   ]
  },
  {
   "cell_type": "code",
   "execution_count": 6,
   "id": "d287698b",
   "metadata": {},
   "outputs": [],
   "source": [
    "# Save to json file\n",
    "test_nhpp_data = os.path.join(wd, 'test_nhpp_data.json')\n",
    "with open(test_nhpp_data, 'w') as f:\n",
    "\tjson.dump({\n",
    "\t\t'hours': int((end_time - start_time).total_seconds() / 3600),\n",
    "\t\t'effort': ts_effort.tolist(),\n",
    "\t\t'N': len(events),\n",
    "\t\t'events': [(t - start_time).total_seconds() / 3600 for t in events],\n",
    "\t}, f, indent=4)"
   ]
  },
  {
   "cell_type": "code",
   "execution_count": 7,
   "id": "6bc05bda",
   "metadata": {},
   "outputs": [],
   "source": [
    "# Build model\n",
    "stan_file_nhpp = os.path.join(wd, 'test_nhpp.stan')\n",
    "stan_model_nhpp = CmdStanModel(stan_file=stan_file_nhpp)"
   ]
  },
  {
   "cell_type": "code",
   "execution_count": 8,
   "id": "f5f1b302",
   "metadata": {},
   "outputs": [
    {
     "name": "stderr",
     "output_type": "stream",
     "text": [
      "14:16:20 - cmdstanpy - INFO - CmdStan start processing\n"
     ]
    },
    {
     "data": {
      "application/vnd.jupyter.widget-view+json": {
       "model_id": "d736d088457748d8a46b35cd10962034",
       "version_major": 2,
       "version_minor": 0
      },
      "text/plain": [
       "chain 1 |          | 00:00 Status"
      ]
     },
     "metadata": {},
     "output_type": "display_data"
    },
    {
     "data": {
      "application/vnd.jupyter.widget-view+json": {
       "model_id": "415ebba5b5584e16a2e1664db6352230",
       "version_major": 2,
       "version_minor": 0
      },
      "text/plain": [
       "chain 2 |          | 00:00 Status"
      ]
     },
     "metadata": {},
     "output_type": "display_data"
    },
    {
     "data": {
      "application/vnd.jupyter.widget-view+json": {
       "model_id": "f5bc1c3970af40a9bab8fc382fa29b9b",
       "version_major": 2,
       "version_minor": 0
      },
      "text/plain": [
       "chain 3 |          | 00:00 Status"
      ]
     },
     "metadata": {},
     "output_type": "display_data"
    },
    {
     "data": {
      "application/vnd.jupyter.widget-view+json": {
       "model_id": "ea084443d42f44d998ea566f67dc1634",
       "version_major": 2,
       "version_minor": 0
      },
      "text/plain": [
       "chain 4 |          | 00:00 Status"
      ]
     },
     "metadata": {},
     "output_type": "display_data"
    },
    {
     "name": "stdout",
     "output_type": "stream",
     "text": [
      "                                                                                                                                                                                                                                                                                                                                "
     ]
    },
    {
     "name": "stderr",
     "output_type": "stream",
     "text": [
      "14:16:21 - cmdstanpy - INFO - CmdStan done processing.\n"
     ]
    },
    {
     "name": "stdout",
     "output_type": "stream",
     "text": [
      "\n"
     ]
    }
   ],
   "source": [
    "# Fit data\n",
    "fit_nhpp = stan_model_nhpp.sample(\n",
    "\tdata=test_nhpp_data,\n",
    "\tchains=4,\n",
    "\titer_warmup=500,\n",
    "\titer_sampling=1000,\n",
    "\tparallel_chains=4,\n",
    "\tshow_console=False,\n",
    ")"
   ]
  },
  {
   "cell_type": "code",
   "execution_count": 9,
   "id": "4d6f7ce4",
   "metadata": {},
   "outputs": [
    {
     "data": {
      "text/plain": [
       "(np.float64(1.49375805025), np.float64(0.21659494673229157))"
      ]
     },
     "execution_count": 9,
     "metadata": {},
     "output_type": "execute_result"
    }
   ],
   "source": [
    "posteriors_r = fit_nhpp.stan_variable('r')\n",
    "posteriors_r.mean(), posteriors_r.std()"
   ]
  },
  {
   "cell_type": "markdown",
   "id": "ec949aa7",
   "metadata": {},
   "source": [
    "Compare:\n",
    "- intensity_effort_ratio = 1.5"
   ]
  }
 ],
 "metadata": {
  "kernelspec": {
   "display_name": ".venv",
   "language": "python",
   "name": "python3"
  },
  "language_info": {
   "codemirror_mode": {
    "name": "ipython",
    "version": 3
   },
   "file_extension": ".py",
   "mimetype": "text/x-python",
   "name": "python",
   "nbconvert_exporter": "python",
   "pygments_lexer": "ipython3",
   "version": "3.13.2"
  }
 },
 "nbformat": 4,
 "nbformat_minor": 5
}
