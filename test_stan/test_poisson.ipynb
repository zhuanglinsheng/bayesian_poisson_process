{
 "cells": [
  {
   "cell_type": "markdown",
   "id": "56842f6d",
   "metadata": {},
   "source": [
    "# Test Homogeneous Poisson"
   ]
  },
  {
   "cell_type": "code",
   "execution_count": 1,
   "id": "7970db79",
   "metadata": {},
   "outputs": [
    {
     "name": "stdout",
     "output_type": "stream",
     "text": [
      "CmdStan install directory: /Users/zhuanglinsheng/.cmdstan\n",
      "CmdStan version 2.36.0 already installed\n",
      "Test model compilation\n"
     ]
    }
   ],
   "source": [
    "# std library\n",
    "import os\n",
    "import sys\n",
    "import json\n",
    "import random\n",
    "from datetime import datetime\n",
    "\n",
    "# third-party\n",
    "import numpy as np\n",
    "from scipy.interpolate import interp1d\n",
    "from matplotlib import pyplot as plt\n",
    "import cmdstanpy\n",
    "cmdstanpy.install_cmdstan()\n",
    "from cmdstanpy import CmdStanModel"
   ]
  },
  {
   "cell_type": "code",
   "execution_count": 2,
   "id": "2ec3098e",
   "metadata": {},
   "outputs": [],
   "source": [
    "wd = os.getcwd()\n",
    "current_dir = os.path.dirname(wd + '/')\n",
    "parent_dir = os.path.dirname(current_dir)\n",
    "\n",
    "# wd, current_dir, parent_dir\n",
    "sys.path.append(parent_dir)\n",
    "\n",
    "# import local modual\n",
    "from poisson import simulate_hpp"
   ]
  },
  {
   "cell_type": "code",
   "execution_count": 3,
   "id": "bb49a7db",
   "metadata": {},
   "outputs": [],
   "source": [
    "start_time = datetime(2025, 1, 1, 0, 0, 0)\n",
    "end_time = datetime(2025, 4, 1, 0, 0, 0)"
   ]
  },
  {
   "cell_type": "code",
   "execution_count": 4,
   "id": "0961e354",
   "metadata": {},
   "outputs": [],
   "source": [
    "# Set parameter\n",
    "real_arrival_rate = 0.1"
   ]
  },
  {
   "cell_type": "code",
   "execution_count": 5,
   "id": "0a96c538",
   "metadata": {},
   "outputs": [],
   "source": [
    "# Generate data\n",
    "rng_poisson = random.Random(42)  # set seed for generator\n",
    "events = simulate_hpp(start_time, end_time, real_arrival_rate, rng_poisson)\n",
    "\n",
    "# Save the data to json\n",
    "test_poisson_data = os.path.join(wd, 'test_poisson_data.json')\n",
    "with open(test_poisson_data, 'w') as f:\n",
    "\tjson.dump({\n",
    "\t\t'T': (end_time - start_time).total_seconds() / 3600,\n",
    "\t\t'N': len(events),\n",
    "\t\t'events': [(t - start_time).total_seconds() / 3600 for t in events],\n",
    "\t}, f, indent=4)"
   ]
  },
  {
   "cell_type": "code",
   "execution_count": 6,
   "id": "8871fbc3",
   "metadata": {},
   "outputs": [],
   "source": [
    "# Build model\n",
    "stan_file_poisson = os.path.join(wd, 'test_poisson.stan')\n",
    "stan_model_poisson = CmdStanModel(stan_file=stan_file_poisson)"
   ]
  },
  {
   "cell_type": "code",
   "execution_count": 7,
   "id": "77a2f11a",
   "metadata": {},
   "outputs": [
    {
     "name": "stderr",
     "output_type": "stream",
     "text": [
      "18:32:11 - cmdstanpy - INFO - CmdStan start processing\n"
     ]
    },
    {
     "data": {
      "application/vnd.jupyter.widget-view+json": {
       "model_id": "0ead248691b8446e8c4a223753494cfb",
       "version_major": 2,
       "version_minor": 0
      },
      "text/plain": [
       "chain 1 |          | 00:00 Status"
      ]
     },
     "metadata": {},
     "output_type": "display_data"
    },
    {
     "data": {
      "application/vnd.jupyter.widget-view+json": {
       "model_id": "12c57f7926a647138a79d3fa89c1bed5",
       "version_major": 2,
       "version_minor": 0
      },
      "text/plain": [
       "chain 2 |          | 00:00 Status"
      ]
     },
     "metadata": {},
     "output_type": "display_data"
    },
    {
     "data": {
      "application/vnd.jupyter.widget-view+json": {
       "model_id": "b10adcb2e3d34baf89a46d6bbcd89e7e",
       "version_major": 2,
       "version_minor": 0
      },
      "text/plain": [
       "chain 3 |          | 00:00 Status"
      ]
     },
     "metadata": {},
     "output_type": "display_data"
    },
    {
     "data": {
      "application/vnd.jupyter.widget-view+json": {
       "model_id": "3538c9218eb34d0886e81bdc36650b3c",
       "version_major": 2,
       "version_minor": 0
      },
      "text/plain": [
       "chain 4 |          | 00:00 Status"
      ]
     },
     "metadata": {},
     "output_type": "display_data"
    },
    {
     "name": "stdout",
     "output_type": "stream",
     "text": [
      "                                                                                                                                                                                                                                                                                                                                "
     ]
    },
    {
     "name": "stderr",
     "output_type": "stream",
     "text": [
      "18:32:11 - cmdstanpy - INFO - CmdStan done processing.\n",
      "18:32:11 - cmdstanpy - WARNING - Some chains may have failed to converge.\n",
      "\tChain 2 had 1 divergent transitions (0.0%)\n",
      "\tUse the \"diagnose()\" method on the CmdStanMCMC object to see further information.\n"
     ]
    },
    {
     "name": "stdout",
     "output_type": "stream",
     "text": [
      "\n"
     ]
    }
   ],
   "source": [
    "# Fit data\n",
    "fit_poisson = stan_model_poisson.sample(\n",
    "\tdata=test_poisson_data,\n",
    "\tchains=4,\n",
    "\titer_warmup=2000,\n",
    "\titer_sampling=4000,\n",
    "\tparallel_chains=4,\n",
    "\tshow_console=False,\n",
    ")"
   ]
  },
  {
   "cell_type": "markdown",
   "id": "7ed0f6f6",
   "metadata": {},
   "source": [
    "Compare:\n",
    "- real_arrival_rate = 0.1"
   ]
  },
  {
   "cell_type": "code",
   "execution_count": 8,
   "id": "bc541a00",
   "metadata": {},
   "outputs": [
    {
     "data": {
      "application/vnd.microsoft.datawrangler.viewer.v0+json": {
       "columns": [
        {
         "name": "index",
         "rawType": "object",
         "type": "string"
        },
        {
         "name": "Mean",
         "rawType": "float64",
         "type": "float"
        },
        {
         "name": "MCSE",
         "rawType": "float64",
         "type": "float"
        },
        {
         "name": "StdDev",
         "rawType": "float64",
         "type": "float"
        },
        {
         "name": "MAD",
         "rawType": "float64",
         "type": "float"
        },
        {
         "name": "5%",
         "rawType": "float64",
         "type": "float"
        },
        {
         "name": "50%",
         "rawType": "float64",
         "type": "float"
        },
        {
         "name": "95%",
         "rawType": "float64",
         "type": "float"
        },
        {
         "name": "ESS_bulk",
         "rawType": "float64",
         "type": "float"
        },
        {
         "name": "ESS_tail",
         "rawType": "float64",
         "type": "float"
        },
        {
         "name": "R_hat",
         "rawType": "float64",
         "type": "float"
        }
       ],
       "conversionMethod": "pd.DataFrame",
       "ref": "c6524d1d-650e-4687-b73a-aafc486a556e",
       "rows": [
        [
         "lp__",
         "-2171.58",
         "0.0147416",
         "0.816626",
         "0.37065",
         "-2173.24",
         "-2171.27",
         "-2171.0",
         "4362.37",
         "3594.31",
         "1.00037"
        ],
        [
         "lambda",
         "0.999948",
         "6.85715e-07",
         "5.22531e-05",
         "3.7065e-05",
         "0.999847",
         "0.999964",
         "0.999997",
         "3866.41",
         "3376.89",
         "1.0003"
        ]
       ],
       "shape": {
        "columns": 10,
        "rows": 2
       }
      },
      "text/html": [
       "<div>\n",
       "<style scoped>\n",
       "    .dataframe tbody tr th:only-of-type {\n",
       "        vertical-align: middle;\n",
       "    }\n",
       "\n",
       "    .dataframe tbody tr th {\n",
       "        vertical-align: top;\n",
       "    }\n",
       "\n",
       "    .dataframe thead th {\n",
       "        text-align: right;\n",
       "    }\n",
       "</style>\n",
       "<table border=\"1\" class=\"dataframe\">\n",
       "  <thead>\n",
       "    <tr style=\"text-align: right;\">\n",
       "      <th></th>\n",
       "      <th>Mean</th>\n",
       "      <th>MCSE</th>\n",
       "      <th>StdDev</th>\n",
       "      <th>MAD</th>\n",
       "      <th>5%</th>\n",
       "      <th>50%</th>\n",
       "      <th>95%</th>\n",
       "      <th>ESS_bulk</th>\n",
       "      <th>ESS_tail</th>\n",
       "      <th>R_hat</th>\n",
       "    </tr>\n",
       "  </thead>\n",
       "  <tbody>\n",
       "    <tr>\n",
       "      <th>lp__</th>\n",
       "      <td>-2171.580000</td>\n",
       "      <td>1.474160e-02</td>\n",
       "      <td>0.816626</td>\n",
       "      <td>0.370650</td>\n",
       "      <td>-2173.240000</td>\n",
       "      <td>-2171.270000</td>\n",
       "      <td>-2171.000000</td>\n",
       "      <td>4362.37</td>\n",
       "      <td>3594.31</td>\n",
       "      <td>1.00037</td>\n",
       "    </tr>\n",
       "    <tr>\n",
       "      <th>lambda</th>\n",
       "      <td>0.999948</td>\n",
       "      <td>6.857150e-07</td>\n",
       "      <td>0.000052</td>\n",
       "      <td>0.000037</td>\n",
       "      <td>0.999847</td>\n",
       "      <td>0.999964</td>\n",
       "      <td>0.999997</td>\n",
       "      <td>3866.41</td>\n",
       "      <td>3376.89</td>\n",
       "      <td>1.00030</td>\n",
       "    </tr>\n",
       "  </tbody>\n",
       "</table>\n",
       "</div>"
      ],
      "text/plain": [
       "               Mean          MCSE    StdDev       MAD           5%  \\\n",
       "lp__   -2171.580000  1.474160e-02  0.816626  0.370650 -2173.240000   \n",
       "lambda     0.999948  6.857150e-07  0.000052  0.000037     0.999847   \n",
       "\n",
       "                50%          95%  ESS_bulk  ESS_tail    R_hat  \n",
       "lp__   -2171.270000 -2171.000000   4362.37   3594.31  1.00037  \n",
       "lambda     0.999964     0.999997   3866.41   3376.89  1.00030  "
      ]
     },
     "execution_count": 8,
     "metadata": {},
     "output_type": "execute_result"
    }
   ],
   "source": [
    "fit_poisson.summary()"
   ]
  }
 ],
 "metadata": {
  "kernelspec": {
   "display_name": ".venv",
   "language": "python",
   "name": "python3"
  },
  "language_info": {
   "codemirror_mode": {
    "name": "ipython",
    "version": 3
   },
   "file_extension": ".py",
   "mimetype": "text/x-python",
   "name": "python",
   "nbconvert_exporter": "python",
   "pygments_lexer": "ipython3",
   "version": "3.13.2"
  }
 },
 "nbformat": 4,
 "nbformat_minor": 5
}
